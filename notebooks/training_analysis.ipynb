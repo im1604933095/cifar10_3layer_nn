{
 "cells": [
  {
   "cell_type": "code",
   "execution_count": null,
   "id": "3d00e31a",
   "metadata": {
    "vscode": {
     "languageId": "plaintext"
    }
   },
   "outputs": [],
   "source": [
    "import matplotlib.pyplot as plt\n",
    "# 可视化分析代码示例\n",
    "plt.figure(figsize=(12,4))\n",
    "plt.subplot(121)\n",
    "plt.imshow(weights['W1'][:,0].reshape(32,32,3))  # 可视化第一层权重\n",
    "plt.subplot(122)\n",
    "plt.plot(train_losses, label='Train Loss')  # 训练曲线\n",
    "plt.plot(losses)\n",
    "plt.title(f\"Final Val Acc: {best_val_acc:.2f}%\")"
   ]
  }
 ],
 "metadata": {
  "language_info": {
   "name": "python"
  }
 },
 "nbformat": 4,
 "nbformat_minor": 5
}
